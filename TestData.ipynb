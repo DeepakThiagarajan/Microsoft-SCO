{
 "cells": [
  {
   "cell_type": "code",
   "execution_count": 1,
   "id": "14675c0a-63bd-4caa-b8c8-b99912612087",
   "metadata": {},
   "outputs": [
    {
     "name": "stderr",
     "output_type": "stream",
     "text": [
      "C:\\Users\\deepa\\AppData\\Local\\Temp\\ipykernel_18532\\3950093167.py:3: DtypeWarning: Columns (10,11) have mixed types. Specify dtype option on import or set low_memory=False.\n",
      "  df_test = pd.read_csv(test_file_path)\n"
     ]
    }
   ],
   "source": [
    "import pandas as pd\n",
    "test_file_path = r\"D:\\Capstone projects\\Microsoft SCO\\GUIDE_Test.csv\"\n",
    "df_test = pd.read_csv(test_file_path)"
   ]
  },
  {
   "cell_type": "code",
   "execution_count": 2,
   "id": "61480f4c-ed89-4aab-b2a3-531fa1bdeff5",
   "metadata": {},
   "outputs": [
    {
     "data": {
      "text/plain": [
       "Index(['Id', 'OrgId', 'IncidentId', 'AlertId', 'Timestamp', 'DetectorId',\n",
       "       'AlertTitle', 'Category', 'MitreTechniques', 'IncidentGrade',\n",
       "       'ActionGrouped', 'ActionGranular', 'EntityType', 'EvidenceRole',\n",
       "       'DeviceId', 'Sha256', 'IpAddress', 'Url', 'AccountSid', 'AccountUpn',\n",
       "       'AccountObjectId', 'AccountName', 'DeviceName', 'NetworkMessageId',\n",
       "       'EmailClusterId', 'RegistryKey', 'RegistryValueName',\n",
       "       'RegistryValueData', 'ApplicationId', 'ApplicationName',\n",
       "       'OAuthApplicationId', 'ThreatFamily', 'FileName', 'FolderPath',\n",
       "       'ResourceIdName', 'ResourceType', 'Roles', 'OSFamily', 'OSVersion',\n",
       "       'AntispamDirection', 'SuspicionLevel', 'LastVerdict', 'CountryCode',\n",
       "       'State', 'City', 'Usage'],\n",
       "      dtype='object')"
      ]
     },
     "execution_count": 2,
     "metadata": {},
     "output_type": "execute_result"
    }
   ],
   "source": [
    "df_test.columns"
   ]
  },
  {
   "cell_type": "code",
   "execution_count": 3,
   "id": "752fd8c5-dab0-4f39-a418-8483265cc4b9",
   "metadata": {},
   "outputs": [],
   "source": [
    "# List of columns to remove\n",
    "columns_to_remove = ['Id','OrgId','MitreTechniques','ActionGrouped','ActionGranular','EmailClusterId',\n",
    "                     'ThreatFamily','ResourceType','Roles','AntispamDirection','SuspicionLevel',\n",
    "                     'LastVerdict','FolderPath','ApplicationId','RegistryValueName']\n",
    "\n",
    "df_test.drop(columns=columns_to_remove, inplace=True)"
   ]
  },
  {
   "cell_type": "code",
   "execution_count": 4,
   "id": "60df4153-b105-4e08-97db-f9391b4bd766",
   "metadata": {},
   "outputs": [],
   "source": [
    "df_test['Timestamp'] = pd.to_datetime(df_test['Timestamp'])\n",
    "df_test['hour'] = df_test['Timestamp'].dt.hour\n",
    "df_test['day_of_week'] = df_test['Timestamp'].dt.dayofweek\n",
    "df_test.drop(columns=['Timestamp'], inplace=True)"
   ]
  },
  {
   "cell_type": "code",
   "execution_count": 5,
   "id": "acabe4c3-57a4-4438-a5a5-c361b9d00590",
   "metadata": {},
   "outputs": [],
   "source": [
    "df_test.dropna(axis=0,inplace=True)"
   ]
  },
  {
   "cell_type": "code",
   "execution_count": 6,
   "id": "33c7c7d7-c7d8-49fd-bcb9-ecd0b670148a",
   "metadata": {},
   "outputs": [],
   "source": [
    "# Assuming df is your DataFrame and cat is the list of categorical columns\n",
    "cat = ['City', 'State', 'CountryCode', 'DeviceName', 'AccountName', 'Url', 'IpAddress', \n",
    "       'EvidenceRole', 'EntityType', 'IncidentGrade', 'Category','FileName',\n",
    "       'OSVersion','OAuthApplicationId','AlertTitle','DeviceId',\n",
    "       'NetworkMessageId','RegistryValueData','ApplicationName','Sha256',\n",
    "       'ResourceIdName','OSFamily','Usage']\n",
    "\n",
    "# Convert columns to category dtype\n",
    "for column in cat:\n",
    "    df_test[column] = df_test[column].astype(str)"
   ]
  },
  {
   "cell_type": "code",
   "execution_count": 7,
   "id": "2a9299e2-5491-4f9b-a57e-8d2a43d2f87d",
   "metadata": {},
   "outputs": [],
   "source": [
    "# Define a function to simplify categories\n",
    "def simplify_categories(df_test, column, top_n=5):\n",
    "    top_categories = df_test[column].value_counts().nlargest(top_n).index\n",
    "    df_test[column] = df_test[column].apply(lambda x: x if x in top_categories else 'Others')\n",
    "\n",
    "# Apply the function to each categorical column\n",
    "for column in cat:\n",
    "    simplify_categories(df_test, column)"
   ]
  },
  {
   "cell_type": "code",
   "execution_count": 8,
   "id": "068fb919-9770-4221-a759-759aaf137d85",
   "metadata": {},
   "outputs": [
    {
     "data": {
      "text/html": [
       "<div>\n",
       "<style scoped>\n",
       "    .dataframe tbody tr th:only-of-type {\n",
       "        vertical-align: middle;\n",
       "    }\n",
       "\n",
       "    .dataframe tbody tr th {\n",
       "        vertical-align: top;\n",
       "    }\n",
       "\n",
       "    .dataframe thead th {\n",
       "        text-align: right;\n",
       "    }\n",
       "</style>\n",
       "<table border=\"1\" class=\"dataframe\">\n",
       "  <thead>\n",
       "    <tr style=\"text-align: right;\">\n",
       "      <th></th>\n",
       "      <th>IncidentId</th>\n",
       "      <th>AlertId</th>\n",
       "      <th>DetectorId</th>\n",
       "      <th>AlertTitle</th>\n",
       "      <th>Category</th>\n",
       "      <th>IncidentGrade</th>\n",
       "      <th>EntityType</th>\n",
       "      <th>EvidenceRole</th>\n",
       "      <th>DeviceId</th>\n",
       "      <th>Sha256</th>\n",
       "      <th>...</th>\n",
       "      <th>FileName</th>\n",
       "      <th>ResourceIdName</th>\n",
       "      <th>OSFamily</th>\n",
       "      <th>OSVersion</th>\n",
       "      <th>CountryCode</th>\n",
       "      <th>State</th>\n",
       "      <th>City</th>\n",
       "      <th>Usage</th>\n",
       "      <th>hour</th>\n",
       "      <th>day_of_week</th>\n",
       "    </tr>\n",
       "  </thead>\n",
       "  <tbody>\n",
       "    <tr>\n",
       "      <th>0</th>\n",
       "      <td>11767</td>\n",
       "      <td>87199</td>\n",
       "      <td>524</td>\n",
       "      <td>Others</td>\n",
       "      <td>Others</td>\n",
       "      <td>BenignPositive</td>\n",
       "      <td>User</td>\n",
       "      <td>Impacted</td>\n",
       "      <td>98799</td>\n",
       "      <td>138268</td>\n",
       "      <td>...</td>\n",
       "      <td>289573</td>\n",
       "      <td>3586</td>\n",
       "      <td>5</td>\n",
       "      <td>66</td>\n",
       "      <td>242</td>\n",
       "      <td>1445</td>\n",
       "      <td>10630</td>\n",
       "      <td>Private</td>\n",
       "      <td>22</td>\n",
       "      <td>1</td>\n",
       "    </tr>\n",
       "    <tr>\n",
       "      <th>1</th>\n",
       "      <td>91158</td>\n",
       "      <td>632273</td>\n",
       "      <td>2</td>\n",
       "      <td>2</td>\n",
       "      <td>CommandAndControl</td>\n",
       "      <td>BenignPositive</td>\n",
       "      <td>Machine</td>\n",
       "      <td>Impacted</td>\n",
       "      <td>Others</td>\n",
       "      <td>138268</td>\n",
       "      <td>...</td>\n",
       "      <td>289573</td>\n",
       "      <td>3586</td>\n",
       "      <td>0</td>\n",
       "      <td>0</td>\n",
       "      <td>242</td>\n",
       "      <td>1445</td>\n",
       "      <td>10630</td>\n",
       "      <td>Public</td>\n",
       "      <td>12</td>\n",
       "      <td>0</td>\n",
       "    </tr>\n",
       "    <tr>\n",
       "      <th>2</th>\n",
       "      <td>32247</td>\n",
       "      <td>131719</td>\n",
       "      <td>2932</td>\n",
       "      <td>Others</td>\n",
       "      <td>Others</td>\n",
       "      <td>BenignPositive</td>\n",
       "      <td>Others</td>\n",
       "      <td>Related</td>\n",
       "      <td>98799</td>\n",
       "      <td>Others</td>\n",
       "      <td>...</td>\n",
       "      <td>Others</td>\n",
       "      <td>3586</td>\n",
       "      <td>5</td>\n",
       "      <td>66</td>\n",
       "      <td>242</td>\n",
       "      <td>1445</td>\n",
       "      <td>10630</td>\n",
       "      <td>Public</td>\n",
       "      <td>3</td>\n",
       "      <td>5</td>\n",
       "    </tr>\n",
       "    <tr>\n",
       "      <th>3</th>\n",
       "      <td>15294</td>\n",
       "      <td>917686</td>\n",
       "      <td>0</td>\n",
       "      <td>0</td>\n",
       "      <td>InitialAccess</td>\n",
       "      <td>FalsePositive</td>\n",
       "      <td>Others</td>\n",
       "      <td>Related</td>\n",
       "      <td>98799</td>\n",
       "      <td>138268</td>\n",
       "      <td>...</td>\n",
       "      <td>289573</td>\n",
       "      <td>3586</td>\n",
       "      <td>5</td>\n",
       "      <td>66</td>\n",
       "      <td>242</td>\n",
       "      <td>1445</td>\n",
       "      <td>10630</td>\n",
       "      <td>Public</td>\n",
       "      <td>12</td>\n",
       "      <td>2</td>\n",
       "    </tr>\n",
       "    <tr>\n",
       "      <th>4</th>\n",
       "      <td>7615</td>\n",
       "      <td>5944</td>\n",
       "      <td>27</td>\n",
       "      <td>Others</td>\n",
       "      <td>Others</td>\n",
       "      <td>BenignPositive</td>\n",
       "      <td>User</td>\n",
       "      <td>Impacted</td>\n",
       "      <td>98799</td>\n",
       "      <td>138268</td>\n",
       "      <td>...</td>\n",
       "      <td>289573</td>\n",
       "      <td>3586</td>\n",
       "      <td>5</td>\n",
       "      <td>66</td>\n",
       "      <td>242</td>\n",
       "      <td>1445</td>\n",
       "      <td>10630</td>\n",
       "      <td>Public</td>\n",
       "      <td>17</td>\n",
       "      <td>3</td>\n",
       "    </tr>\n",
       "  </tbody>\n",
       "</table>\n",
       "<p>5 rows × 32 columns</p>\n",
       "</div>"
      ],
      "text/plain": [
       "   IncidentId  AlertId  DetectorId AlertTitle           Category  \\\n",
       "0       11767    87199         524     Others             Others   \n",
       "1       91158   632273           2          2  CommandAndControl   \n",
       "2       32247   131719        2932     Others             Others   \n",
       "3       15294   917686           0          0      InitialAccess   \n",
       "4        7615     5944          27     Others             Others   \n",
       "\n",
       "    IncidentGrade EntityType EvidenceRole DeviceId  Sha256  ... FileName  \\\n",
       "0  BenignPositive       User     Impacted    98799  138268  ...   289573   \n",
       "1  BenignPositive    Machine     Impacted   Others  138268  ...   289573   \n",
       "2  BenignPositive     Others      Related    98799  Others  ...   Others   \n",
       "3   FalsePositive     Others      Related    98799  138268  ...   289573   \n",
       "4  BenignPositive       User     Impacted    98799  138268  ...   289573   \n",
       "\n",
       "  ResourceIdName  OSFamily  OSVersion  CountryCode State   City    Usage  \\\n",
       "0           3586         5         66          242  1445  10630  Private   \n",
       "1           3586         0          0          242  1445  10630   Public   \n",
       "2           3586         5         66          242  1445  10630   Public   \n",
       "3           3586         5         66          242  1445  10630   Public   \n",
       "4           3586         5         66          242  1445  10630   Public   \n",
       "\n",
       "   hour day_of_week  \n",
       "0    22           1  \n",
       "1    12           0  \n",
       "2     3           5  \n",
       "3    12           2  \n",
       "4    17           3  \n",
       "\n",
       "[5 rows x 32 columns]"
      ]
     },
     "execution_count": 8,
     "metadata": {},
     "output_type": "execute_result"
    }
   ],
   "source": [
    "df_test.head()"
   ]
  },
  {
   "cell_type": "code",
   "execution_count": 9,
   "id": "74744c9d-c048-4573-9844-fc1a2aaf4ed2",
   "metadata": {},
   "outputs": [],
   "source": [
    "from sklearn.preprocessing import LabelEncoder\n",
    "\n",
    "# Initialize LabelEncoder\n",
    "le = LabelEncoder()\n",
    "\n",
    "# Encode each categorical column\n",
    "for column in cat:\n",
    "    df_test[column] = le.fit_transform(df_test[column])"
   ]
  },
  {
   "cell_type": "code",
   "execution_count": 10,
   "id": "b6af7cae-aee7-44c1-8e6a-85a6e5eef05d",
   "metadata": {},
   "outputs": [],
   "source": [
    "from sklearn.model_selection import train_test_split\n",
    "\n",
    "# Define features and target variable\n",
    "X = df_test.drop(columns=['IncidentGrade'])  # Features\n",
    "y = df_test['IncidentGrade']  # Target\n",
    "\n",
    "# Stratified Train-Validation Split\n",
    "X_train, X_test, y_train, y_test = train_test_split(X, y, test_size=0.2, random_state=42, stratify=y)"
   ]
  },
  {
   "cell_type": "code",
   "execution_count": 11,
   "id": "8371e4ae-b87f-44aa-855d-093ec8b21e05",
   "metadata": {},
   "outputs": [
    {
     "name": "stdout",
     "output_type": "stream",
     "text": [
      "Training Set Shape (X_train, y_train): (3318393, 31) (3318393,)\n",
      "Testing Set Shape (X_test, y_test): (829599, 31) (829599,)\n",
      "\n",
      "Class Distribution in Training Set:\n",
      "IncidentGrade\n",
      "0    1402352\n",
      "2    1193883\n",
      "1     722158\n",
      "Name: count, dtype: int64\n",
      "\n",
      "Class Distribution in Testing Set:\n",
      "IncidentGrade\n",
      "0    350588\n",
      "2    298471\n",
      "1    180540\n",
      "Name: count, dtype: int64\n"
     ]
    }
   ],
   "source": [
    "print(\"Training Set Shape (X_train, y_train):\", X_train.shape, y_train.shape)\n",
    "print(\"Testing Set Shape (X_test, y_test):\", X_test.shape, y_test.shape)\n",
    "\n",
    "# Check the class distribution in the training and testing sets\n",
    "print(\"\\nClass Distribution in Training Set:\")\n",
    "print(y_train.value_counts())\n",
    "\n",
    "print(\"\\nClass Distribution in Testing Set:\")\n",
    "print(y_test.value_counts())"
   ]
  },
  {
   "cell_type": "code",
   "execution_count": 12,
   "id": "66a4b61b-9704-47dd-b2b6-1ca2fe874653",
   "metadata": {},
   "outputs": [
    {
     "name": "stdout",
     "output_type": "stream",
     "text": [
      "XGBoost Model Performance:\n",
      "Accuracy: 0.8646\n",
      "Macro F1 Score: 0.8613\n",
      "Precision: 0.8981\n",
      "Recall: 0.8436\n"
     ]
    }
   ],
   "source": [
    "import xgboost as xgb\n",
    "from sklearn.metrics import accuracy_score, f1_score, precision_score, recall_score\n",
    "\n",
    "# Initialize the XGBoost Classifier\n",
    "xgb_model = xgb.XGBClassifier(\n",
    "    n_estimators=100,\n",
    "    max_depth=10,\n",
    "    learning_rate=0.1,\n",
    "    random_state=42,\n",
    "    eval_metric='mlogloss'\n",
    ")\n",
    "\n",
    "# Train the model on the training data\n",
    "xgb_model.fit(X_train, y_train)\n",
    "\n",
    "# Make predictions on the test data\n",
    "y_pred_xgb = xgb_model.predict(X_test)\n",
    "\n",
    "# Evaluate the XGBoost model\n",
    "accuracy_xgb = accuracy_score(y_test, y_pred_xgb)\n",
    "macro_f1_xgb = f1_score(y_test, y_pred_xgb, average='macro')\n",
    "precision_xgb = precision_score(y_test, y_pred_xgb, average='macro')\n",
    "recall_xgb = recall_score(y_test, y_pred_xgb, average='macro')\n",
    "\n",
    "# Print the evaluation metrics\n",
    "print(\"XGBoost Model Performance:\")\n",
    "print(f\"Accuracy: {accuracy_xgb:.4f}\")\n",
    "print(f\"Macro F1 Score: {macro_f1_xgb:.4f}\")\n",
    "print(f\"Precision: {precision_xgb:.4f}\")\n",
    "print(f\"Recall: {recall_xgb:.4f}\")"
   ]
  },
  {
   "cell_type": "code",
   "execution_count": 13,
   "id": "7b5d1133-666b-4b19-9e15-b7e8bc89a5ac",
   "metadata": {},
   "outputs": [
    {
     "name": "stdout",
     "output_type": "stream",
     "text": [
      "n_iterations: 8\n",
      "n_required_iterations: 8\n",
      "n_possible_iterations: 16\n",
      "min_resources_: 18\n",
      "max_resources_: 663678\n",
      "aggressive_elimination: False\n",
      "factor: 2\n",
      "----------\n",
      "iter: 0\n",
      "n_candidates: 192\n",
      "n_resources: 18\n",
      "Fitting 3 folds for each of 192 candidates, totalling 576 fits\n"
     ]
    },
    {
     "name": "stderr",
     "output_type": "stream",
     "text": [
      "C:\\Users\\deepa\\AppData\\Local\\Programs\\Python\\Python312\\Lib\\site-packages\\sklearn\\model_selection\\_search.py:320: UserWarning: The total space of parameters 192 is smaller than n_iter=36871. Running 192 iterations. For exhaustive searches, use GridSearchCV.\n",
      "  warnings.warn(\n",
      "C:\\Users\\deepa\\AppData\\Local\\Programs\\Python\\Python312\\Lib\\site-packages\\numpy\\ma\\core.py:2846: RuntimeWarning: invalid value encountered in cast\n",
      "  _data = np.array(data, dtype=dtype, copy=copy,\n"
     ]
    },
    {
     "name": "stdout",
     "output_type": "stream",
     "text": [
      "----------\n",
      "iter: 1\n",
      "n_candidates: 96\n",
      "n_resources: 36\n",
      "Fitting 3 folds for each of 96 candidates, totalling 288 fits\n"
     ]
    },
    {
     "name": "stderr",
     "output_type": "stream",
     "text": [
      "C:\\Users\\deepa\\AppData\\Local\\Programs\\Python\\Python312\\Lib\\site-packages\\numpy\\ma\\core.py:2846: RuntimeWarning: invalid value encountered in cast\n",
      "  _data = np.array(data, dtype=dtype, copy=copy,\n"
     ]
    },
    {
     "name": "stdout",
     "output_type": "stream",
     "text": [
      "----------\n",
      "iter: 2\n",
      "n_candidates: 48\n",
      "n_resources: 72\n",
      "Fitting 3 folds for each of 48 candidates, totalling 144 fits\n"
     ]
    },
    {
     "name": "stderr",
     "output_type": "stream",
     "text": [
      "C:\\Users\\deepa\\AppData\\Local\\Programs\\Python\\Python312\\Lib\\site-packages\\numpy\\ma\\core.py:2846: RuntimeWarning: invalid value encountered in cast\n",
      "  _data = np.array(data, dtype=dtype, copy=copy,\n"
     ]
    },
    {
     "name": "stdout",
     "output_type": "stream",
     "text": [
      "----------\n",
      "iter: 3\n",
      "n_candidates: 24\n",
      "n_resources: 144\n",
      "Fitting 3 folds for each of 24 candidates, totalling 72 fits\n"
     ]
    },
    {
     "name": "stderr",
     "output_type": "stream",
     "text": [
      "C:\\Users\\deepa\\AppData\\Local\\Programs\\Python\\Python312\\Lib\\site-packages\\numpy\\ma\\core.py:2846: RuntimeWarning: invalid value encountered in cast\n",
      "  _data = np.array(data, dtype=dtype, copy=copy,\n"
     ]
    },
    {
     "name": "stdout",
     "output_type": "stream",
     "text": [
      "----------\n",
      "iter: 4\n",
      "n_candidates: 12\n",
      "n_resources: 288\n",
      "Fitting 3 folds for each of 12 candidates, totalling 36 fits\n",
      "----------\n",
      "iter: 5\n",
      "n_candidates: 6\n",
      "n_resources: 576\n",
      "Fitting 3 folds for each of 6 candidates, totalling 18 fits\n",
      "----------\n",
      "iter: 6\n",
      "n_candidates: 3\n",
      "n_resources: 1152\n",
      "Fitting 3 folds for each of 3 candidates, totalling 9 fits\n"
     ]
    },
    {
     "name": "stderr",
     "output_type": "stream",
     "text": [
      "C:\\Users\\deepa\\AppData\\Local\\Programs\\Python\\Python312\\Lib\\site-packages\\numpy\\ma\\core.py:2846: RuntimeWarning: invalid value encountered in cast\n",
      "  _data = np.array(data, dtype=dtype, copy=copy,\n"
     ]
    },
    {
     "name": "stdout",
     "output_type": "stream",
     "text": [
      "----------\n",
      "iter: 7\n",
      "n_candidates: 2\n",
      "n_resources: 2304\n",
      "Fitting 3 folds for each of 2 candidates, totalling 6 fits\n",
      "Best Hyperparameters: {'subsample': 1.0, 'n_estimators': 100, 'min_child_weight': 1, 'max_depth': 10, 'learning_rate': 0.05, 'gamma': 0.1, 'colsample_bytree': 0.8}\n",
      "\n",
      "Tuned XGBoost Model Performance:\n",
      "Accuracy: 0.8483\n",
      "Macro F1 Score: 0.8427\n",
      "Precision: 0.8897\n",
      "Recall: 0.8223\n"
     ]
    }
   ],
   "source": [
    "from sklearn.experimental import enable_halving_search_cv\n",
    "from sklearn.model_selection import HalvingRandomSearchCV\n",
    "import xgboost as xgb\n",
    "import numpy as np\n",
    "from sklearn.metrics import accuracy_score, f1_score, precision_score, recall_score\n",
    "from sklearn.utils import resample\n",
    "\n",
    "# Downsample the training data (20% of the original training set)\n",
    "X_train_sample, y_train_sample = resample(X_train, y_train, replace=False, n_samples=int(0.2 * len(X_train)), random_state=42)\n",
    "\n",
    "# Define the parameter grid for XGBoost\n",
    "param_grid = {\n",
    "    'n_estimators': [100, 150, 200],\n",
    "    'max_depth': [5, 10],\n",
    "    'learning_rate': [0.05, 0.1],\n",
    "    'subsample': [0.8, 1.0],\n",
    "    'colsample_bytree': [0.8, 1.0],\n",
    "    'gamma': [0, 0.1],\n",
    "    'min_child_weight': [1, 3]\n",
    "}\n",
    "\n",
    "# Initialize the XGBoost classifier\n",
    "xgb_model = xgb.XGBClassifier(random_state=42, eval_metric='mlogloss')\n",
    "\n",
    "# Set up HalvingRandomSearchCV\n",
    "halving_search = HalvingRandomSearchCV(\n",
    "    estimator=xgb_model,\n",
    "    param_distributions=param_grid,\n",
    "    factor=2,\n",
    "    scoring='f1_macro',\n",
    "    cv=3,\n",
    "    verbose=2,\n",
    "    random_state=42,\n",
    "    n_jobs=-1\n",
    ")\n",
    "\n",
    "# Fit the HalvingRandomSearchCV\n",
    "halving_search.fit(X_train_sample, y_train_sample)\n",
    "\n",
    "# Get the best model and parameters\n",
    "best_model = halving_search.best_estimator_\n",
    "best_params = halving_search.best_params_\n",
    "print(\"Best Hyperparameters:\", best_params)\n",
    "\n",
    "# Evaluate the tuned model on the test data\n",
    "y_pred_best = best_model.predict(X_test)\n",
    "accuracy_best = accuracy_score(y_test, y_pred_best)\n",
    "macro_f1_best = f1_score(y_test, y_pred_best, average='macro')\n",
    "precision_best = precision_score(y_test, y_pred_best, average='macro')\n",
    "recall_best = recall_score(y_test, y_pred_best, average='macro')\n",
    "\n",
    "# Print the evaluation metrics\n",
    "print(\"\\nTuned XGBoost Model Performance:\")\n",
    "print(f\"Accuracy: {accuracy_best:.4f}\")\n",
    "print(f\"Macro F1 Score: {macro_f1_best:.4f}\")\n",
    "print(f\"Precision: {precision_best:.4f}\")\n",
    "print(f\"Recall: {recall_best:.4f}\")\n"
   ]
  },
  {
   "cell_type": "code",
   "execution_count": 14,
   "id": "793ac641-b5a8-4c61-847f-a6e9233bd4bc",
   "metadata": {},
   "outputs": [],
   "source": [
    "# %reset -f"
   ]
  },
  {
   "cell_type": "code",
   "execution_count": 15,
   "id": "b7d12eb5-52e2-4516-a8f7-392dd3236dff",
   "metadata": {},
   "outputs": [
    {
     "data": {
      "image/png": "[encoded data removed]",
      "text/plain": [
       "<Figure size 600x400 with 2 Axes>"
      ]
     },
     "metadata": {},
     "output_type": "display_data"
    }
   ],
   "source": [
    "import matplotlib.pyplot as plt\n",
    "import seaborn as sns\n",
    "from sklearn.metrics import confusion_matrix\n",
    "\n",
    "# Confusion Matrix\n",
    "cm = confusion_matrix(y_test, y_pred_best)\n",
    "\n",
    "# Plot confusion matrix using seaborn\n",
    "plt.figure(figsize=(6, 4))\n",
    "sns.heatmap(cm, annot=True, fmt=\"d\", cmap=\"Blues\", xticklabels=[\"Class 0\", \"Class 1\"], yticklabels=[\"Class 0\", \"Class 1\"])\n",
    "plt.ylabel('Actual')\n",
    "plt.xlabel('Predicted')\n",
    "plt.title('Confusion Matrix')\n",
    "plt.show()"
   ]
  },
  {
   "cell_type": "code",
   "execution_count": 18,
   "id": "cc572165-0628-4ebb-aaa5-fbc3ad9b4472",
   "metadata": {},
   "outputs": [
    {
     "name": "stdout",
     "output_type": "stream",
     "text": [
      "Precision: 0.8897\n",
      "Recall: 0.8223\n",
      "F1 Score: 0.8427\n"
     ]
    }
   ],
   "source": [
    "from sklearn.metrics import precision_score, recall_score, f1_score, classification_report\n",
    "\n",
    "precision = precision_score(y_test, y_pred_best, average='macro')\n",
    "recall = recall_score(y_test, y_pred_best, average='macro')\n",
    "f1 = f1_score(y_test, y_pred_best, average='macro')\n",
    "\n",
    "print(f\"Precision: {precision:.4f}\")\n",
    "print(f\"Recall: {recall:.4f}\")\n",
    "print(f\"F1 Score: {f1:.4f}\")"
   ]
  },
  {
   "cell_type": "code",
   "execution_count": 17,
   "id": "7cf4c998-1fca-4d29-b4a6-dda3e0145f81",
   "metadata": {},
   "outputs": [
    {
     "data": {
      "image/png": "[encoded data removed]",
      "text/plain": [
       "<Figure size 800x600 with 1 Axes>"
      ]
     },
     "metadata": {},
     "output_type": "display_data"
    },
    {
     "name": "stdout",
     "output_type": "stream",
     "text": [
      "Class 0 AUC: 0.9537\n",
      "Class 1 AUC: 0.9638\n",
      "Class 2 AUC: 0.9669\n"
     ]
    }
   ],
   "source": [
    "from sklearn.metrics import roc_curve, auc\n",
    "from sklearn.preprocessing import label_binarize\n",
    "import matplotlib.pyplot as plt\n",
    "\n",
    "# Binarize the output labels (this converts the labels to a one-vs-rest format)\n",
    "y_test_bin = label_binarize(y_test, classes=[0, 1, 2])  # Adjust classes according to your problem\n",
    "y_pred_proba = best_model.predict_proba(X_test)\n",
    "\n",
    "# Compute ROC curve and AUC for each class\n",
    "fpr = dict()\n",
    "tpr = dict()\n",
    "roc_auc = dict()\n",
    "\n",
    "for i in range(y_test_bin.shape[1]):\n",
    "    fpr[i], tpr[i], _ = roc_curve(y_test_bin[:, i], y_pred_proba[:, i])\n",
    "    roc_auc[i] = auc(fpr[i], tpr[i])\n",
    "\n",
    "# Plot ROC curve for each class\n",
    "plt.figure(figsize=(8, 6))\n",
    "colors = ['blue', 'green', 'red']  # Use appropriate colors for your classes\n",
    "\n",
    "for i, color in zip(range(y_test_bin.shape[1]), colors):\n",
    "    plt.plot(fpr[i], tpr[i], color=color, lw=2, label=f'Class {i} (AUC = {roc_auc[i]:.2f})')\n",
    "\n",
    "# Plot diagonal line (random classifier)\n",
    "plt.plot([0, 1], [0, 1], 'k--', lw=2)\n",
    "\n",
    "plt.xlabel('False Positive Rate')\n",
    "plt.ylabel('True Positive Rate')\n",
    "plt.title('ROC Curve (One-vs-Rest) for Multiclass Classification')\n",
    "plt.legend(loc='lower right')\n",
    "plt.show()\n",
    "\n",
    "# Print AUC values for each class\n",
    "for i in range(y_test_bin.shape[1]):\n",
    "    print(f\"Class {i} AUC: {roc_auc[i]:.4f}\")"
   ]
  },
  {
   "cell_type": "code",
   "execution_count": 20,
   "id": "fdac65cd-d4bd-44f1-9ca7-af7ee679388a",
   "metadata": {},
   "outputs": [
    {
     "name": "stdout",
     "output_type": "stream",
     "text": [
      "              precision    recall  f1-score   support\n",
      "\n",
      "          TP       0.76      0.97      0.85    350588\n",
      "          BP       0.96      0.71      0.81    180540\n",
      "          FP       0.95      0.79      0.86    298471\n",
      "\n",
      "    accuracy                           0.85    829599\n",
      "   macro avg       0.89      0.82      0.84    829599\n",
      "weighted avg       0.87      0.85      0.85    829599\n",
      "\n"
     ]
    }
   ],
   "source": [
    "print(classification_report(y_test, y_pred_best, target_names=['TP', 'BP', 'FP']))"
   ]
  },
  {
   "cell_type": "code",
   "execution_count": null,
   "id": "767908f2-1f87-4e05-8b3c-38dbc66b3f06",
   "metadata": {},
   "outputs": [],
   "source": []
  }
 ],
 "metadata": {
  "kernelspec": {
   "display_name": "Python 3 (ipykernel)",
   "language": "python",
   "name": "python3"
  },
  "language_info": {
   "codemirror_mode": {
    "name": "ipython",
    "version": 3
   },
   "file_extension": ".py",
   "mimetype": "text/x-python",
   "name": "python",
   "nbconvert_exporter": "python",
   "pygments_lexer": "ipython3",
   "version": "3.12.4"
  }
 },
 "nbformat": 4,
 "nbformat_minor": 5
}

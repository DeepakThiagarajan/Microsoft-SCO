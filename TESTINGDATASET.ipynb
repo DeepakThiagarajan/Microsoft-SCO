{
 "cells": [
  {
   "cell_type": "code",
   "execution_count": 1,
   "id": "ccf61dc4-0cd0-47a6-92c0-d6cf194c8f39",
   "metadata": {},
   "outputs": [],
   "source": [
    "import pandas as pd\n",
    "import numpy as np\n",
    "from imblearn.over_sampling import SMOTE\n",
    "from datetime import datetime\n",
    "from sklearn.preprocessing import LabelEncoder, StandardScaler\n",
    "from sklearn.model_selection import train_test_split, cross_val_score\n",
    "from sklearn.metrics import accuracy_score, f1_score, precision_score, recall_score, classification_report\n",
    "from sklearn.linear_model import LogisticRegression\n",
    "from sklearn.tree import DecisionTreeClassifier\n",
    "from sklearn.ensemble import RandomForestClassifier, GradientBoostingClassifier\n",
    "import xgboost as xgb\n",
    "from xgboost import XGBClassifier\n",
    "from sklearn.model_selection import RandomizedSearchCV\n",
    "import seaborn as sns\n",
    "import matplotlib.pyplot as plt"
   ]
  },
  {
   "cell_type": "code",
   "execution_count": 2,
   "id": "6fae16e4-889c-40ed-93fe-0976d6ca2806",
   "metadata": {},
   "outputs": [
    {
     "name": "stderr",
     "output_type": "stream",
     "text": [
      "C:\\Users\\deepa\\AppData\\Local\\Temp\\ipykernel_14248\\3937674481.py:1: DtypeWarning: Columns (10,11) have mixed types. Specify dtype option on import or set low_memory=False.\n",
      "  df = pd.read_csv('GUIDE_Test.csv')\n"
     ]
    }
   ],
   "source": [
    "df = pd.read_csv('GUIDE_Test.csv')"
   ]
  },
  {
   "cell_type": "code",
   "execution_count": 3,
   "id": "3429b331-a36b-4179-93ca-1634de0b523a",
   "metadata": {},
   "outputs": [
    {
     "data": {
      "text/plain": [
       "(4147992, 46)"
      ]
     },
     "execution_count": 3,
     "metadata": {},
     "output_type": "execute_result"
    }
   ],
   "source": [
    "df.shape"
   ]
  },
  {
   "cell_type": "code",
   "execution_count": 4,
   "id": "f6c84ab4-365a-43c8-a7a9-ac4dbbab9b24",
   "metadata": {},
   "outputs": [
    {
     "data": {
      "text/plain": [
       "Id                          0\n",
       "OrgId                       0\n",
       "IncidentId                  0\n",
       "AlertId                     0\n",
       "Timestamp                   0\n",
       "DetectorId                  0\n",
       "AlertTitle                  0\n",
       "Category                    0\n",
       "MitreTechniques       2307104\n",
       "IncidentGrade               0\n",
       "ActionGrouped         4146079\n",
       "ActionGranular        4146079\n",
       "EntityType                  0\n",
       "EvidenceRole                0\n",
       "DeviceId                    0\n",
       "Sha256                      0\n",
       "IpAddress                   0\n",
       "Url                         0\n",
       "AccountSid                  0\n",
       "AccountUpn                  0\n",
       "AccountObjectId             0\n",
       "AccountName                 0\n",
       "DeviceName                  0\n",
       "NetworkMessageId            0\n",
       "EmailClusterId        4106285\n",
       "RegistryKey                 0\n",
       "RegistryValueName           0\n",
       "RegistryValueData           0\n",
       "ApplicationId               0\n",
       "ApplicationName             0\n",
       "OAuthApplicationId          0\n",
       "ThreatFamily          4116614\n",
       "FileName                    0\n",
       "FolderPath                  0\n",
       "ResourceIdName              0\n",
       "ResourceType          4144998\n",
       "Roles                 4039317\n",
       "OSFamily                    0\n",
       "OSVersion                   0\n",
       "AntispamDirection     4071481\n",
       "SuspicionLevel        3498157\n",
       "LastVerdict           3155260\n",
       "CountryCode                 0\n",
       "State                       0\n",
       "City                        0\n",
       "Usage                       0\n",
       "dtype: int64"
      ]
     },
     "execution_count": 4,
     "metadata": {},
     "output_type": "execute_result"
    }
   ],
   "source": [
    "df.isna().sum()"
   ]
  },
  {
   "cell_type": "code",
   "execution_count": 5,
   "id": "2ee36042-d659-40b5-bd99-4218c2231ada",
   "metadata": {},
   "outputs": [],
   "source": [
    "df = df.dropna(thresh=0.4 * len(df), axis=1)"
   ]
  },
  {
   "cell_type": "code",
   "execution_count": 6,
   "id": "05469e0f-c94f-4db4-a27e-68e4f2a7a99b",
   "metadata": {},
   "outputs": [
    {
     "data": {
      "text/plain": [
       "Id                          0\n",
       "OrgId                       0\n",
       "IncidentId                  0\n",
       "AlertId                     0\n",
       "Timestamp                   0\n",
       "DetectorId                  0\n",
       "AlertTitle                  0\n",
       "Category                    0\n",
       "MitreTechniques       2307104\n",
       "IncidentGrade               0\n",
       "EntityType                  0\n",
       "EvidenceRole                0\n",
       "DeviceId                    0\n",
       "Sha256                      0\n",
       "IpAddress                   0\n",
       "Url                         0\n",
       "AccountSid                  0\n",
       "AccountUpn                  0\n",
       "AccountObjectId             0\n",
       "AccountName                 0\n",
       "DeviceName                  0\n",
       "NetworkMessageId            0\n",
       "RegistryKey                 0\n",
       "RegistryValueName           0\n",
       "RegistryValueData           0\n",
       "ApplicationId               0\n",
       "ApplicationName             0\n",
       "OAuthApplicationId          0\n",
       "FileName                    0\n",
       "FolderPath                  0\n",
       "ResourceIdName              0\n",
       "OSFamily                    0\n",
       "OSVersion                   0\n",
       "CountryCode                 0\n",
       "State                       0\n",
       "City                        0\n",
       "Usage                       0\n",
       "dtype: int64"
      ]
     },
     "execution_count": 6,
     "metadata": {},
     "output_type": "execute_result"
    }
   ],
   "source": [
    "df.isnull().sum()"
   ]
  },
  {
   "cell_type": "code",
   "execution_count": 7,
   "id": "430ce705-6c5c-4228-bc75-8c0960d81b51",
   "metadata": {},
   "outputs": [],
   "source": [
    "df['Hour'] = pd.to_datetime(df['Timestamp']).dt.hour\n",
    "df['DayOfWeek'] = pd.to_datetime(df['Timestamp']).dt.dayofweek\n",
    "df.drop(\"Timestamp\",axis=1,inplace=True)\n",
    "missing_datas = df.groupby(df[\"MitreTechniques\"].isnull())['IncidentGrade'].value_counts()\n",
    "technique_count = df.groupby([\"IncidentGrade\", \"MitreTechniques\"]).size().reset_index(name=\"count\")\n",
    "sorted_technique = technique_count.sort_values([\"IncidentGrade\",\"count\"],ascending=[True, False])\n",
    "most_commons = sorted_technique.loc[sorted_technique.groupby(\"IncidentGrade\")[\"count\"].idxmax()]\n",
    "fill_mapping = {\n",
    "    \"BenignPositive\": \"T1566.002\",\n",
    "    \"FalsePositive\": \"T1078;T1078.004\",\n",
    "    \"TruePositive\": \"T1078;T1078.004\"\n",
    "}\n",
    "\n",
    "df[\"MitreTechniques\"] = df[\"MitreTechniques\"].fillna(df[\"IncidentGrade\"].map(fill_mapping))"
   ]
  },
  {
   "cell_type": "code",
   "execution_count": 8,
   "id": "f866b0f5-c6b7-453d-97cd-73c79e65c937",
   "metadata": {},
   "outputs": [
    {
     "data": {
      "text/html": [
       "<div>\n",
       "<style scoped>\n",
       "    .dataframe tbody tr th:only-of-type {\n",
       "        vertical-align: middle;\n",
       "    }\n",
       "\n",
       "    .dataframe tbody tr th {\n",
       "        vertical-align: top;\n",
       "    }\n",
       "\n",
       "    .dataframe thead th {\n",
       "        text-align: right;\n",
       "    }\n",
       "</style>\n",
       "<table border=\"1\" class=\"dataframe\">\n",
       "  <thead>\n",
       "    <tr style=\"text-align: right;\">\n",
       "      <th></th>\n",
       "      <th>IncidentGrade</th>\n",
       "      <th>MitreTechniques</th>\n",
       "      <th>count</th>\n",
       "    </tr>\n",
       "  </thead>\n",
       "  <tbody>\n",
       "    <tr>\n",
       "      <th>761</th>\n",
       "      <td>BenignPositive</td>\n",
       "      <td>T1566.002</td>\n",
       "      <td>172062</td>\n",
       "    </tr>\n",
       "    <tr>\n",
       "      <th>1038</th>\n",
       "      <td>FalsePositive</td>\n",
       "      <td>T1078;T1078.004</td>\n",
       "      <td>133875</td>\n",
       "    </tr>\n",
       "    <tr>\n",
       "      <th>1408</th>\n",
       "      <td>TruePositive</td>\n",
       "      <td>T1078;T1078.004</td>\n",
       "      <td>468729</td>\n",
       "    </tr>\n",
       "  </tbody>\n",
       "</table>\n",
       "</div>"
      ],
      "text/plain": [
       "       IncidentGrade  MitreTechniques   count\n",
       "761   BenignPositive        T1566.002  172062\n",
       "1038   FalsePositive  T1078;T1078.004  133875\n",
       "1408    TruePositive  T1078;T1078.004  468729"
      ]
     },
     "execution_count": 8,
     "metadata": {},
     "output_type": "execute_result"
    }
   ],
   "source": [
    "technique_count\n",
    "sorted_technique\n",
    "most_commons"
   ]
  },
  {
   "cell_type": "code",
   "execution_count": 9,
   "id": "19ce0429-3171-4cc1-9e85-92bd161083d3",
   "metadata": {},
   "outputs": [
    {
     "data": {
      "text/plain": [
       "Id                    0\n",
       "OrgId                 0\n",
       "IncidentId            0\n",
       "AlertId               0\n",
       "DetectorId            0\n",
       "AlertTitle            0\n",
       "Category              0\n",
       "MitreTechniques       0\n",
       "IncidentGrade         0\n",
       "EntityType            0\n",
       "EvidenceRole          0\n",
       "DeviceId              0\n",
       "Sha256                0\n",
       "IpAddress             0\n",
       "Url                   0\n",
       "AccountSid            0\n",
       "AccountUpn            0\n",
       "AccountObjectId       0\n",
       "AccountName           0\n",
       "DeviceName            0\n",
       "NetworkMessageId      0\n",
       "RegistryKey           0\n",
       "RegistryValueName     0\n",
       "RegistryValueData     0\n",
       "ApplicationId         0\n",
       "ApplicationName       0\n",
       "OAuthApplicationId    0\n",
       "FileName              0\n",
       "FolderPath            0\n",
       "ResourceIdName        0\n",
       "OSFamily              0\n",
       "OSVersion             0\n",
       "CountryCode           0\n",
       "State                 0\n",
       "City                  0\n",
       "Usage                 0\n",
       "Hour                  0\n",
       "DayOfWeek             0\n",
       "dtype: int64"
      ]
     },
     "execution_count": 9,
     "metadata": {},
     "output_type": "execute_result"
    }
   ],
   "source": [
    "df.isnull().sum()"
   ]
  },
  {
   "cell_type": "code",
   "execution_count": 10,
   "id": "eddae911-cb78-4d5f-ab41-6e837782d146",
   "metadata": {},
   "outputs": [],
   "source": [
    "df[\"MitreTechniques\"] = df[\"MitreTechniques\"].map(lambda x: x.split(\";\")[0])"
   ]
  },
  {
   "cell_type": "code",
   "execution_count": 11,
   "id": "073801be-65f6-4521-97fa-3b2a8eec26e6",
   "metadata": {},
   "outputs": [
    {
     "data": {
      "text/html": [
       "<div>\n",
       "<style scoped>\n",
       "    .dataframe tbody tr th:only-of-type {\n",
       "        vertical-align: middle;\n",
       "    }\n",
       "\n",
       "    .dataframe tbody tr th {\n",
       "        vertical-align: top;\n",
       "    }\n",
       "\n",
       "    .dataframe thead th {\n",
       "        text-align: right;\n",
       "    }\n",
       "</style>\n",
       "<table border=\"1\" class=\"dataframe\">\n",
       "  <thead>\n",
       "    <tr style=\"text-align: right;\">\n",
       "      <th></th>\n",
       "      <th>Id</th>\n",
       "      <th>OrgId</th>\n",
       "      <th>IncidentId</th>\n",
       "      <th>AlertId</th>\n",
       "      <th>DetectorId</th>\n",
       "      <th>AlertTitle</th>\n",
       "      <th>Category</th>\n",
       "      <th>MitreTechniques</th>\n",
       "      <th>IncidentGrade</th>\n",
       "      <th>EntityType</th>\n",
       "      <th>...</th>\n",
       "      <th>FolderPath</th>\n",
       "      <th>ResourceIdName</th>\n",
       "      <th>OSFamily</th>\n",
       "      <th>OSVersion</th>\n",
       "      <th>CountryCode</th>\n",
       "      <th>State</th>\n",
       "      <th>City</th>\n",
       "      <th>Usage</th>\n",
       "      <th>Hour</th>\n",
       "      <th>DayOfWeek</th>\n",
       "    </tr>\n",
       "  </thead>\n",
       "  <tbody>\n",
       "    <tr>\n",
       "      <th>0</th>\n",
       "      <td>1245540519230</td>\n",
       "      <td>657</td>\n",
       "      <td>11767</td>\n",
       "      <td>87199</td>\n",
       "      <td>524</td>\n",
       "      <td>563</td>\n",
       "      <td>LateralMovement</td>\n",
       "      <td>T1021</td>\n",
       "      <td>BenignPositive</td>\n",
       "      <td>User</td>\n",
       "      <td>...</td>\n",
       "      <td>117668</td>\n",
       "      <td>3586</td>\n",
       "      <td>5</td>\n",
       "      <td>66</td>\n",
       "      <td>242</td>\n",
       "      <td>1445</td>\n",
       "      <td>10630</td>\n",
       "      <td>Private</td>\n",
       "      <td>22</td>\n",
       "      <td>1</td>\n",
       "    </tr>\n",
       "    <tr>\n",
       "      <th>1</th>\n",
       "      <td>1400159342154</td>\n",
       "      <td>3</td>\n",
       "      <td>91158</td>\n",
       "      <td>632273</td>\n",
       "      <td>2</td>\n",
       "      <td>2</td>\n",
       "      <td>CommandAndControl</td>\n",
       "      <td>T1566.002</td>\n",
       "      <td>BenignPositive</td>\n",
       "      <td>Machine</td>\n",
       "      <td>...</td>\n",
       "      <td>117668</td>\n",
       "      <td>3586</td>\n",
       "      <td>0</td>\n",
       "      <td>0</td>\n",
       "      <td>242</td>\n",
       "      <td>1445</td>\n",
       "      <td>10630</td>\n",
       "      <td>Public</td>\n",
       "      <td>12</td>\n",
       "      <td>0</td>\n",
       "    </tr>\n",
       "    <tr>\n",
       "      <th>2</th>\n",
       "      <td>1279900255923</td>\n",
       "      <td>145</td>\n",
       "      <td>32247</td>\n",
       "      <td>131719</td>\n",
       "      <td>2932</td>\n",
       "      <td>10807</td>\n",
       "      <td>LateralMovement</td>\n",
       "      <td>T1021</td>\n",
       "      <td>BenignPositive</td>\n",
       "      <td>Process</td>\n",
       "      <td>...</td>\n",
       "      <td>22</td>\n",
       "      <td>3586</td>\n",
       "      <td>5</td>\n",
       "      <td>66</td>\n",
       "      <td>242</td>\n",
       "      <td>1445</td>\n",
       "      <td>10630</td>\n",
       "      <td>Public</td>\n",
       "      <td>3</td>\n",
       "      <td>5</td>\n",
       "    </tr>\n",
       "    <tr>\n",
       "      <th>3</th>\n",
       "      <td>60129547292</td>\n",
       "      <td>222</td>\n",
       "      <td>15294</td>\n",
       "      <td>917686</td>\n",
       "      <td>0</td>\n",
       "      <td>0</td>\n",
       "      <td>InitialAccess</td>\n",
       "      <td>T1078</td>\n",
       "      <td>FalsePositive</td>\n",
       "      <td>CloudLogonSession</td>\n",
       "      <td>...</td>\n",
       "      <td>117668</td>\n",
       "      <td>3586</td>\n",
       "      <td>5</td>\n",
       "      <td>66</td>\n",
       "      <td>242</td>\n",
       "      <td>1445</td>\n",
       "      <td>10630</td>\n",
       "      <td>Public</td>\n",
       "      <td>12</td>\n",
       "      <td>2</td>\n",
       "    </tr>\n",
       "    <tr>\n",
       "      <th>4</th>\n",
       "      <td>515396080539</td>\n",
       "      <td>363</td>\n",
       "      <td>7615</td>\n",
       "      <td>5944</td>\n",
       "      <td>27</td>\n",
       "      <td>18</td>\n",
       "      <td>Discovery</td>\n",
       "      <td>T1087</td>\n",
       "      <td>BenignPositive</td>\n",
       "      <td>User</td>\n",
       "      <td>...</td>\n",
       "      <td>117668</td>\n",
       "      <td>3586</td>\n",
       "      <td>5</td>\n",
       "      <td>66</td>\n",
       "      <td>242</td>\n",
       "      <td>1445</td>\n",
       "      <td>10630</td>\n",
       "      <td>Public</td>\n",
       "      <td>17</td>\n",
       "      <td>3</td>\n",
       "    </tr>\n",
       "    <tr>\n",
       "      <th>...</th>\n",
       "      <td>...</td>\n",
       "      <td>...</td>\n",
       "      <td>...</td>\n",
       "      <td>...</td>\n",
       "      <td>...</td>\n",
       "      <td>...</td>\n",
       "      <td>...</td>\n",
       "      <td>...</td>\n",
       "      <td>...</td>\n",
       "      <td>...</td>\n",
       "      <td>...</td>\n",
       "      <td>...</td>\n",
       "      <td>...</td>\n",
       "      <td>...</td>\n",
       "      <td>...</td>\n",
       "      <td>...</td>\n",
       "      <td>...</td>\n",
       "      <td>...</td>\n",
       "      <td>...</td>\n",
       "      <td>...</td>\n",
       "      <td>...</td>\n",
       "    </tr>\n",
       "    <tr>\n",
       "      <th>4147985</th>\n",
       "      <td>171798692464</td>\n",
       "      <td>42</td>\n",
       "      <td>391</td>\n",
       "      <td>638112</td>\n",
       "      <td>135</td>\n",
       "      <td>7322</td>\n",
       "      <td>Malware</td>\n",
       "      <td>T1566.002</td>\n",
       "      <td>BenignPositive</td>\n",
       "      <td>Machine</td>\n",
       "      <td>...</td>\n",
       "      <td>117668</td>\n",
       "      <td>3586</td>\n",
       "      <td>0</td>\n",
       "      <td>0</td>\n",
       "      <td>242</td>\n",
       "      <td>1445</td>\n",
       "      <td>10630</td>\n",
       "      <td>Public</td>\n",
       "      <td>20</td>\n",
       "      <td>0</td>\n",
       "    </tr>\n",
       "    <tr>\n",
       "      <th>4147987</th>\n",
       "      <td>541165881145</td>\n",
       "      <td>262</td>\n",
       "      <td>3017</td>\n",
       "      <td>227156</td>\n",
       "      <td>139</td>\n",
       "      <td>120</td>\n",
       "      <td>InitialAccess</td>\n",
       "      <td>T1566.002</td>\n",
       "      <td>BenignPositive</td>\n",
       "      <td>User</td>\n",
       "      <td>...</td>\n",
       "      <td>117668</td>\n",
       "      <td>3586</td>\n",
       "      <td>5</td>\n",
       "      <td>66</td>\n",
       "      <td>242</td>\n",
       "      <td>1445</td>\n",
       "      <td>10630</td>\n",
       "      <td>Public</td>\n",
       "      <td>3</td>\n",
       "      <td>1</td>\n",
       "    </tr>\n",
       "    <tr>\n",
       "      <th>4147988</th>\n",
       "      <td>438086666953</td>\n",
       "      <td>1323</td>\n",
       "      <td>31001</td>\n",
       "      <td>304819</td>\n",
       "      <td>219</td>\n",
       "      <td>196</td>\n",
       "      <td>InitialAccess</td>\n",
       "      <td>T1566.002</td>\n",
       "      <td>BenignPositive</td>\n",
       "      <td>User</td>\n",
       "      <td>...</td>\n",
       "      <td>117668</td>\n",
       "      <td>3586</td>\n",
       "      <td>5</td>\n",
       "      <td>66</td>\n",
       "      <td>242</td>\n",
       "      <td>1445</td>\n",
       "      <td>10630</td>\n",
       "      <td>Private</td>\n",
       "      <td>19</td>\n",
       "      <td>1</td>\n",
       "    </tr>\n",
       "    <tr>\n",
       "      <th>4147989</th>\n",
       "      <td>1297080124487</td>\n",
       "      <td>47</td>\n",
       "      <td>3653</td>\n",
       "      <td>7243</td>\n",
       "      <td>57</td>\n",
       "      <td>29</td>\n",
       "      <td>CommandAndControl</td>\n",
       "      <td>T1046</td>\n",
       "      <td>FalsePositive</td>\n",
       "      <td>Ip</td>\n",
       "      <td>...</td>\n",
       "      <td>117668</td>\n",
       "      <td>3586</td>\n",
       "      <td>5</td>\n",
       "      <td>66</td>\n",
       "      <td>242</td>\n",
       "      <td>1445</td>\n",
       "      <td>10630</td>\n",
       "      <td>Public</td>\n",
       "      <td>0</td>\n",
       "      <td>5</td>\n",
       "    </tr>\n",
       "    <tr>\n",
       "      <th>4147990</th>\n",
       "      <td>627065226886</td>\n",
       "      <td>70</td>\n",
       "      <td>4243</td>\n",
       "      <td>19142</td>\n",
       "      <td>1</td>\n",
       "      <td>1</td>\n",
       "      <td>InitialAccess</td>\n",
       "      <td>T1566.002</td>\n",
       "      <td>BenignPositive</td>\n",
       "      <td>Mailbox</td>\n",
       "      <td>...</td>\n",
       "      <td>117668</td>\n",
       "      <td>3586</td>\n",
       "      <td>5</td>\n",
       "      <td>66</td>\n",
       "      <td>242</td>\n",
       "      <td>1445</td>\n",
       "      <td>10630</td>\n",
       "      <td>Private</td>\n",
       "      <td>16</td>\n",
       "      <td>1</td>\n",
       "    </tr>\n",
       "  </tbody>\n",
       "</table>\n",
       "<p>3922695 rows × 38 columns</p>\n",
       "</div>"
      ],
      "text/plain": [
       "                    Id  OrgId  IncidentId  AlertId  DetectorId  AlertTitle  \\\n",
       "0        1245540519230    657       11767    87199         524         563   \n",
       "1        1400159342154      3       91158   632273           2           2   \n",
       "2        1279900255923    145       32247   131719        2932       10807   \n",
       "3          60129547292    222       15294   917686           0           0   \n",
       "4         515396080539    363        7615     5944          27          18   \n",
       "...                ...    ...         ...      ...         ...         ...   \n",
       "4147985   171798692464     42         391   638112         135        7322   \n",
       "4147987   541165881145    262        3017   227156         139         120   \n",
       "4147988   438086666953   1323       31001   304819         219         196   \n",
       "4147989  1297080124487     47        3653     7243          57          29   \n",
       "4147990   627065226886     70        4243    19142           1           1   \n",
       "\n",
       "                  Category MitreTechniques   IncidentGrade         EntityType  \\\n",
       "0          LateralMovement           T1021  BenignPositive               User   \n",
       "1        CommandAndControl       T1566.002  BenignPositive            Machine   \n",
       "2          LateralMovement           T1021  BenignPositive            Process   \n",
       "3            InitialAccess           T1078   FalsePositive  CloudLogonSession   \n",
       "4                Discovery           T1087  BenignPositive               User   \n",
       "...                    ...             ...             ...                ...   \n",
       "4147985            Malware       T1566.002  BenignPositive            Machine   \n",
       "4147987      InitialAccess       T1566.002  BenignPositive               User   \n",
       "4147988      InitialAccess       T1566.002  BenignPositive               User   \n",
       "4147989  CommandAndControl           T1046   FalsePositive                 Ip   \n",
       "4147990      InitialAccess       T1566.002  BenignPositive            Mailbox   \n",
       "\n",
       "         ... FolderPath  ResourceIdName  OSFamily  OSVersion  CountryCode  \\\n",
       "0        ...     117668            3586         5         66          242   \n",
       "1        ...     117668            3586         0          0          242   \n",
       "2        ...         22            3586         5         66          242   \n",
       "3        ...     117668            3586         5         66          242   \n",
       "4        ...     117668            3586         5         66          242   \n",
       "...      ...        ...             ...       ...        ...          ...   \n",
       "4147985  ...     117668            3586         0          0          242   \n",
       "4147987  ...     117668            3586         5         66          242   \n",
       "4147988  ...     117668            3586         5         66          242   \n",
       "4147989  ...     117668            3586         5         66          242   \n",
       "4147990  ...     117668            3586         5         66          242   \n",
       "\n",
       "         State   City    Usage  Hour  DayOfWeek  \n",
       "0         1445  10630  Private    22          1  \n",
       "1         1445  10630   Public    12          0  \n",
       "2         1445  10630   Public     3          5  \n",
       "3         1445  10630   Public    12          2  \n",
       "4         1445  10630   Public    17          3  \n",
       "...        ...    ...      ...   ...        ...  \n",
       "4147985   1445  10630   Public    20          0  \n",
       "4147987   1445  10630   Public     3          1  \n",
       "4147988   1445  10630  Private    19          1  \n",
       "4147989   1445  10630   Public     0          5  \n",
       "4147990   1445  10630  Private    16          1  \n",
       "\n",
       "[3922695 rows x 38 columns]"
      ]
     },
     "execution_count": 11,
     "metadata": {},
     "output_type": "execute_result"
    }
   ],
   "source": [
    "df.drop_duplicates()"
   ]
  },
  {
   "cell_type": "code",
   "execution_count": 12,
   "id": "5a64e05b-f078-450a-ae09-cf89c9503828",
   "metadata": {},
   "outputs": [],
   "source": [
    "label_encoders = {}\n",
    "categorical_columns = df.select_dtypes(include=['object']).columns\n",
    "\n",
    "for col in categorical_columns:\n",
    "    le = LabelEncoder()\n",
    "    df[col] = le.fit_transform(df[col].astype(str))\n",
    "    label_encoders[col] = le"
   ]
  },
  {
   "cell_type": "code",
   "execution_count": 13,
   "id": "43aed510-a1cb-4721-9ffd-4c36a833a52e",
   "metadata": {},
   "outputs": [
    {
     "data": {
      "image/png": "[encoded data removed]",
      "text/plain": [
       "<Figure size 640x480 with 1 Axes>"
      ]
     },
     "metadata": {},
     "output_type": "display_data"
    }
   ],
   "source": [
    "sns.countplot(x=df[\"IncidentGrade\"])\n",
    "plt.title(\"Distribution of IncidentGrade\")\n",
    "plt.show()"
   ]
  },
  {
   "cell_type": "code",
   "execution_count": 14,
   "id": "1a4209c2-c3a3-41e6-92bc-9cbc0beb2ccf",
   "metadata": {},
   "outputs": [
    {
     "name": "stdout",
     "output_type": "stream",
     "text": [
      "IncidentGrade\n",
      "0    902698\n",
      "1    902698\n",
      "2    902698\n",
      "Name: count, dtype: int64\n"
     ]
    }
   ],
   "source": [
    "from sklearn.utils import resample\n",
    "\n",
    "min_class_size = df[\"IncidentGrade\"].value_counts().min()\n",
    "\n",
    "df_balanced = pd.concat([\n",
    "    resample(df[df[\"IncidentGrade\"] == cls], \n",
    "             replace=False, \n",
    "             n_samples=min_class_size, \n",
    "             random_state=42)\n",
    "    for cls in df[\"IncidentGrade\"].unique()\n",
    "])\n",
    "print(df_balanced[\"IncidentGrade\"].value_counts())"
   ]
  },
  {
   "cell_type": "code",
   "execution_count": 15,
   "id": "82340bd3-d852-41d9-8e79-63c55c5959c6",
   "metadata": {},
   "outputs": [],
   "source": [
    "numeric_columns = df_balanced.select_dtypes(include=['number']).columns\n",
    "scaler = StandardScaler()\n",
    "data_scaled =scaler.fit_transform(df_balanced[numeric_columns])\n",
    "data_scaled_df = pd.DataFrame(data_scaled, columns=numeric_columns)"
   ]
  },
  {
   "cell_type": "code",
   "execution_count": 16,
   "id": "e2a831f6-e100-4514-87cc-20f920de997d",
   "metadata": {},
   "outputs": [
    {
     "data": {
      "text/plain": [
       "Index(['Id', 'OrgId', 'IncidentId', 'AlertId', 'DetectorId', 'AlertTitle',\n",
       "       'Category', 'MitreTechniques', 'IncidentGrade', 'EntityType',\n",
       "       'EvidenceRole', 'DeviceId', 'Sha256', 'IpAddress', 'Url', 'AccountSid',\n",
       "       'AccountUpn', 'AccountObjectId', 'AccountName', 'DeviceName',\n",
       "       'NetworkMessageId', 'RegistryKey', 'RegistryValueName',\n",
       "       'RegistryValueData', 'ApplicationId', 'ApplicationName',\n",
       "       'OAuthApplicationId', 'FileName', 'FolderPath', 'ResourceIdName',\n",
       "       'OSFamily', 'OSVersion', 'CountryCode', 'State', 'City', 'Usage',\n",
       "       'Hour', 'DayOfWeek'],\n",
       "      dtype='object')"
      ]
     },
     "execution_count": 16,
     "metadata": {},
     "output_type": "execute_result"
    }
   ],
   "source": [
    "df_balanced.columns"
   ]
  },
  {
   "cell_type": "code",
   "execution_count": 17,
   "id": "77c07092-3176-494a-a02b-520ed6fcef8f",
   "metadata": {},
   "outputs": [],
   "source": [
    "X = df_balanced[['MitreTechniques',\n",
    " 'OrgId',\n",
    " 'IncidentId',\n",
    " 'DetectorId',\n",
    " 'AlertTitle',\n",
    " 'AlertId',\n",
    " 'Category',\n",
    " 'EntityType',\n",
    " 'CountryCode',\n",
    " 'IpAddress',\n",
    " 'AccountUpn',\n",
    " 'DeviceName',\n",
    " 'EvidenceRole',\n",
    " 'NetworkMessageId',\n",
    " 'AccountName',\n",
    " 'DayOfWeek']]"
   ]
  },
  {
   "cell_type": "code",
   "execution_count": 18,
   "id": "856e8bdd-eef9-4519-9e07-bf96fbcb9901",
   "metadata": {},
   "outputs": [],
   "source": [
    "y = df_balanced['IncidentGrade']"
   ]
  },
  {
   "cell_type": "code",
   "execution_count": 19,
   "id": "917a23b0-bd15-46b1-b6a4-a338f9bb5280",
   "metadata": {},
   "outputs": [
    {
     "data": {
      "text/plain": [
       "(2708094, 16)"
      ]
     },
     "execution_count": 19,
     "metadata": {},
     "output_type": "execute_result"
    }
   ],
   "source": [
    "X.shape"
   ]
  },
  {
   "cell_type": "code",
   "execution_count": 20,
   "id": "b27598a9-a8d6-4ca9-9761-b6da1a6bb8a8",
   "metadata": {},
   "outputs": [],
   "source": [
    "import joblib\n",
    "best_model = joblib.load('XGB.joblib')"
   ]
  },
  {
   "cell_type": "code",
   "execution_count": 21,
   "id": "62572bf3-6b18-4441-b847-faa0d84d16dc",
   "metadata": {},
   "outputs": [],
   "source": [
    "xgb_pred= best_model.predict(X)"
   ]
  },
  {
   "cell_type": "code",
   "execution_count": 22,
   "id": "2a6b3574-a825-4d03-8d6f-55559174871d",
   "metadata": {},
   "outputs": [
    {
     "name": "stdout",
     "output_type": "stream",
     "text": [
      "              precision    recall  f1-score   support\n",
      "\n",
      "           0       0.85      0.77      0.81    902698\n",
      "           1       0.78      0.89      0.83    902698\n",
      "           2       0.90      0.86      0.88    902698\n",
      "\n",
      "    accuracy                           0.84   2708094\n",
      "   macro avg       0.85      0.84      0.84   2708094\n",
      "weighted avg       0.85      0.84      0.84   2708094\n",
      "\n"
     ]
    }
   ],
   "source": [
    "print(classification_report(y,xgb_pred))"
   ]
  },
  {
   "cell_type": "code",
   "execution_count": 28,
   "id": "e6c09a43-39aa-4472-8b49-20fc4516915e",
   "metadata": {},
   "outputs": [
    {
     "data": {
      "image/png": "[encoded data removed]",
      "text/plain": [
       "<Figure size 800x600 with 2 Axes>"
      ]
     },
     "metadata": {},
     "output_type": "display_data"
    }
   ],
   "source": [
    "cm = confusion_matrix(y, xgb_pred)\n",
    "\n",
    "plt.figure(figsize=(8, 6))\n",
    "sns.heatmap(cm_normalized, annot=True, cmap=\"Blues\")\n",
    "\n",
    "# Labels and title\n",
    "plt.xlabel(\"Predicted Label\")plt.ylabel(\"True Label\")\n",
    "plt.title(\"Normalized Confusion Matrix for XGBoost Model\")\n",
    "plt.show()\n"
   ]
  },
  {
   "cell_type": "code",
   "execution_count": null,
   "id": "d2a23e90-13d6-450a-b870-2448b7daf824",
   "metadata": {},
   "outputs": [],
   "source": []
  }
 ],
 "metadata": {
  "kernelspec": {
   "display_name": "Python 3 (ipykernel)",
   "language": "python",
   "name": "python3"
  },
  "language_info": {
   "codemirror_mode": {
    "name": "ipython",
    "version": 3
   },
   "file_extension": ".py",
   "mimetype": "text/x-python",
   "name": "python",
   "nbconvert_exporter": "python",
   "pygments_lexer": "ipython3",
   "version": "3.12.4"
  }
 },
 "nbformat": 4,
 "nbformat_minor": 5
}
